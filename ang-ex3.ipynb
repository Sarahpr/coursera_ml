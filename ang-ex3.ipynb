{
 "cells": [
  {
   "cell_type": "markdown",
   "metadata": {},
   "source": [
    "# Multi-class Classification & Neural Networks"
   ]
  },
  {
   "cell_type": "markdown",
   "metadata": {},
   "source": [
    "## Multi-class Classifier"
   ]
  },
  {
   "cell_type": "code",
   "execution_count": 190,
   "metadata": {},
   "outputs": [],
   "source": [
    "import os\n",
    "import numpy as np\n",
    "import matplotlib.pyplot as plt\n",
    "from scipy.optimize import minimize\n",
    "from scipy.io import loadmat # To load .mat files.\n",
    "from scipy.special import expit \n",
    "%matplotlib inline"
   ]
  },
  {
   "cell_type": "markdown",
   "metadata": {},
   "source": [
    "#### Data\n",
    "There are 5000 images, each represented by a 20 pixel by 20 pixel matrix unrolled in to a vector of 400 elements.\n",
    "Since the datafile was in matlab native format the zero digit was mapped to 10. We will remap it back to zero here."
   ]
  },
  {
   "cell_type": "code",
   "execution_count": 14,
   "metadata": {},
   "outputs": [],
   "source": [
    "datafile = os.path.join('data', 'ex3data1.mat')\n",
    "data = loadmat(datafile)\n",
    "X, y = data.get('X'), data.get('y')\n",
    "y[y==10] = 0"
   ]
  },
  {
   "cell_type": "code",
   "execution_count": 132,
   "metadata": {},
   "outputs": [],
   "source": [
    "m, n = X.shape\n",
    "k, l = y.shape"
   ]
  },
  {
   "cell_type": "code",
   "execution_count": 133,
   "metadata": {},
   "outputs": [
    {
     "data": {
      "text/plain": [
       "(5000, 400, 5000, 1)"
      ]
     },
     "execution_count": 133,
     "metadata": {},
     "output_type": "execute_result"
    }
   ],
   "source": [
    "m, n, k, l"
   ]
  },
  {
   "cell_type": "code",
   "execution_count": 155,
   "metadata": {},
   "outputs": [],
   "source": [
    "# It will be better to have the shape of y be (k, ), \n",
    "# since then we will be able to use the codes from the \n",
    "# previous exercise without modification.\n",
    "\n",
    "# Note to self: It is generally a good idea to check \n",
    "# the dimensions of the data at the beginning.\n",
    "\n",
    "y = y.flatten()"
   ]
  },
  {
   "cell_type": "markdown",
   "metadata": {},
   "source": [
    "#### Visualization of data"
   ]
  },
  {
   "cell_type": "code",
   "execution_count": 46,
   "metadata": {},
   "outputs": [
    {
     "data": {
      "image/png": "[encoded data removed]",
      "text/plain": [
       "<Figure size 1440x1440 with 25 Axes>"
      ]
     },
     "metadata": {
      "needs_background": "light"
     },
     "output_type": "display_data"
    }
   ],
   "source": [
    "nrows = 25\n",
    "\n",
    "def row_to_square(X_row):\n",
    "    return np.reshape(X_row, (20, 20)).T\n",
    "\n",
    "# Choose nrows random rows of X.\n",
    "indices = np.random.randint(m, size=nrows)\n",
    "X_sel = X[indices, :]\n",
    "\n",
    "fig, ax = plt.subplots(1, nrows, figsize=(20, 20))\n",
    "\n",
    "for i in range(nrows):\n",
    "    ax[i].imshow(row_to_square(X_sel[i, :]), cmap='gray')"
   ]
  },
  {
   "cell_type": "markdown",
   "metadata": {},
   "source": [
    "### Cost function and gradient\n",
    " We will always use the regularized cost function and its gradient. They will reduce to the non-regularized versions when the regulator is 0."
   ]
  },
  {
   "cell_type": "code",
   "execution_count": 203,
   "metadata": {},
   "outputs": [],
   "source": [
    "def cost_function(theta, x, y, regulator=0):\n",
    "    m = y.size\n",
    "    hypothesis = expit(np.dot(x, theta))\n",
    "    term1 = -y * np.log(hypothesis)\n",
    "    term2 = -(1 - y) * np.log(1 - hypothesis)\n",
    "    cost = np.sum(term1 + term2) / m\n",
    "    theta2 = regulator * np.sum(theta ** 2) / (2*m)\n",
    "    return cost + theta2\n",
    "\n",
    "def gradient(theta, x, y, regulator=0):\n",
    "    m, n = x.shape\n",
    "    hypothesis = expit(np.dot(x, theta))\n",
    "    grad = (1. / m) * np.sum((hypothesis - y)[:, None] * x, axis=0)\n",
    "    reg_theta = np.ones(n) * regulator / m\n",
    "    reg_grad = grad + reg_theta\n",
    "    reg_grad[0] = grad[0]\n",
    "    return reg_grad"
   ]
  },
  {
   "cell_type": "markdown",
   "metadata": {},
   "source": [
    "### One vs All classifier"
   ]
  },
  {
   "cell_type": "code",
   "execution_count": 195,
   "metadata": {},
   "outputs": [],
   "source": [
    "def optimize_theta(theta, x, y, regulator=0):\n",
    "    result = minimize(cost_function, theta, \n",
    "                      args=(x, y, regulator), jac=gradient,\n",
    "                      method='CG', options={\"maxiter\":400})\n",
    "    return result.x\n",
    "\n",
    "def compute_theta(x, y, num_labels, regulator=0):\n",
    "    m, n = x.shape\n",
    "    x = np.insert(x, 0, 1, axis=1)\n",
    "    initial_theta = np.zeros(n+1)\n",
    "    all_theta = np.zeros((n+1, num_labels))\n",
    "    for label in np.arange(num_labels):\n",
    "        outcome = (y == label).astype(int)\n",
    "        all_theta[:, label] = optimize_theta(initial_theta, x, outcome, regulator)\n",
    "    return all_theta"
   ]
  },
  {
   "cell_type": "code",
   "execution_count": 196,
   "metadata": {},
   "outputs": [],
   "source": [
    "num_labels = np.unique(y).size\n",
    "regulator = 0.1\n",
    "theta = compute_theta(X, y, num_labels, regulator)"
   ]
  },
  {
   "cell_type": "code",
   "execution_count": 199,
   "metadata": {},
   "outputs": [
    {
     "data": {
      "text/plain": [
       "(401, 10)"
      ]
     },
     "execution_count": 199,
     "metadata": {},
     "output_type": "execute_result"
    }
   ],
   "source": [
    "theta.shape"
   ]
  },
  {
   "cell_type": "markdown",
   "metadata": {},
   "source": [
    "### Prediction"
   ]
  },
  {
   "cell_type": "code",
   "execution_count": 200,
   "metadata": {},
   "outputs": [],
   "source": [
    "def predict_one_v_all(theta, x):\n",
    "    x = np.insert(x, 0, 1, axis=1)\n",
    "    prbbls = np.dot(x, theta)\n",
    "    return np.argmax(prbbls, axis=1)"
   ]
  },
  {
   "cell_type": "code",
   "execution_count": 201,
   "metadata": {},
   "outputs": [],
   "source": [
    "predictions = predict_one_v_all(theta, X)"
   ]
  },
  {
   "cell_type": "code",
   "execution_count": 202,
   "metadata": {},
   "outputs": [
    {
     "data": {
      "text/plain": [
       "0.9644"
      ]
     },
     "execution_count": 202,
     "metadata": {},
     "output_type": "execute_result"
    }
   ],
   "source": [
    "np.mean(predictions == y)"
   ]
  },
  {
   "cell_type": "markdown",
   "metadata": {},
   "source": [
    "Thus the classifier predicts the training data with 96% accuracy."
   ]
  },
  {
   "cell_type": "markdown",
   "metadata": {},
   "source": [
    "## Neural Networks"
   ]
  },
  {
   "cell_type": "markdown",
   "metadata": {},
   "source": [
    "Classify the same data using a pretrained neural network. The network has three layers, with one hidden. The hidden layer has 25 units and the output layer has 10 units, corresponding to the ten digits."
   ]
  },
  {
   "cell_type": "code",
   "execution_count": 208,
   "metadata": {},
   "outputs": [],
   "source": [
    "input_layer_size = 400 # Each image consists of 20 x 20 pixels\n",
    "hidden_layer_size = 25\n",
    "num_labels = 10\n",
    "\n",
    "weightsfile = os.path.join('data', 'ex3weights.mat')\n",
    "weights = loadmat(weightsfile)\n",
    "\n",
    "theta1 = weights.get('Theta1')\n",
    "theta2 = weights.get('Theta2')\n",
    "theta2 = np.roll(theta2, 1, axis=0) # From matlab indexing to python indexing"
   ]
  },
  {
   "cell_type": "code",
   "execution_count": 205,
   "metadata": {},
   "outputs": [
    {
     "data": {
      "text/plain": [
       "(25, 401)"
      ]
     },
     "execution_count": 205,
     "metadata": {},
     "output_type": "execute_result"
    }
   ],
   "source": [
    "theta1.shape"
   ]
  },
  {
   "cell_type": "code",
   "execution_count": 206,
   "metadata": {},
   "outputs": [
    {
     "data": {
      "text/plain": [
       "(10, 26)"
      ]
     },
     "execution_count": 206,
     "metadata": {},
     "output_type": "execute_result"
    }
   ],
   "source": [
    "theta2.shape"
   ]
  },
  {
   "cell_type": "markdown",
   "metadata": {},
   "source": [
    "### Prediction"
   ]
  },
  {
   "cell_type": "code",
   "execution_count": 223,
   "metadata": {},
   "outputs": [],
   "source": [
    "def predict_nn(theta1, theta2, x):\n",
    "    # Ensure that x is two-dimensional.\n",
    "    if x.ndim == 1:\n",
    "        x = x[None]\n",
    "    a1 = np.insert(x, 0, 1, axis=1)\n",
    "    z2 = np.dot(theta1, a1.T)\n",
    "    a2 = expit(z2)\n",
    "    a2 = np.insert(a2, 0, 1, axis=0)\n",
    "    z3 = np.dot(theta2, a2)\n",
    "    a3 = expit(z3.T)\n",
    "    return np.argmax(a3, axis=1)"
   ]
  },
  {
   "cell_type": "code",
   "execution_count": 224,
   "metadata": {},
   "outputs": [
    {
     "data": {
      "text/plain": [
       "0.9752"
      ]
     },
     "execution_count": 224,
     "metadata": {},
     "output_type": "execute_result"
    }
   ],
   "source": [
    "np.mean(predict_nn(theta1, theta2, X) == y)"
   ]
  },
  {
   "cell_type": "markdown",
   "metadata": {},
   "source": [
    "Thus the network predicts the data with 97.5% accuracy."
   ]
  },
  {
   "cell_type": "code",
   "execution_count": 228,
   "metadata": {},
   "outputs": [
    {
     "data": {
      "image/png": "[encoded data removed]",
      "text/plain": [
       "<Figure size 144x144 with 1 Axes>"
      ]
     },
     "metadata": {
      "needs_background": "light"
     },
     "output_type": "display_data"
    },
    {
     "data": {
      "image/png": "[encoded data removed]",
      "text/plain": [
       "<Figure size 144x144 with 1 Axes>"
      ]
     },
     "metadata": {
      "needs_background": "light"
     },
     "output_type": "display_data"
    },
    {
     "data": {
      "image/png": "[encoded data removed]",
      "text/plain": [
       "<Figure size 144x144 with 1 Axes>"
      ]
     },
     "metadata": {
      "needs_background": "light"
     },
     "output_type": "display_data"
    },
    {
     "data": {
      "image/png": "[encoded data removed]",
      "text/plain": [
       "<Figure size 144x144 with 1 Axes>"
      ]
     },
     "metadata": {
      "needs_background": "light"
     },
     "output_type": "display_data"
    },
    {
     "data": {
      "image/png": "[encoded data removed]",
      "text/plain": [
       "<Figure size 144x144 with 1 Axes>"
      ]
     },
     "metadata": {
      "needs_background": "light"
     },
     "output_type": "display_data"
    },
    {
     "data": {
      "image/png": "[encoded data removed]",
      "text/plain": [
       "<Figure size 144x144 with 1 Axes>"
      ]
     },
     "metadata": {
      "needs_background": "light"
     },
     "output_type": "display_data"
    },
    {
     "data": {
      "image/png": "[encoded data removed]",
      "text/plain": [
       "<Figure size 144x144 with 1 Axes>"
      ]
     },
     "metadata": {
      "needs_background": "light"
     },
     "output_type": "display_data"
    },
    {
     "data": {
      "image/png": "[encoded data removed]",
      "text/plain": [
       "<Figure size 144x144 with 1 Axes>"
      ]
     },
     "metadata": {
      "needs_background": "light"
     },
     "output_type": "display_data"
    },
    {
     "data": {
      "image/png": "[encoded data removed]",
      "text/plain": [
       "<Figure size 144x144 with 1 Axes>"
      ]
     },
     "metadata": {
      "needs_background": "light"
     },
     "output_type": "display_data"
    },
    {
     "data": {
      "image/png": "[encoded data removed]",
      "text/plain": [
       "<Figure size 144x144 with 1 Axes>"
      ]
     },
     "metadata": {
      "needs_background": "light"
     },
     "output_type": "display_data"
    }
   ],
   "source": [
    "indices = np.random.randint(m, size=10)\n",
    "\n",
    "for index in indices:\n",
    "    fig = plt.figure(figsize=(2, 2))\n",
    "    predicted_value = predict_nn(theta1, theta2, X[index, :])\n",
    "    plt.imshow(row_to_square(X[index, :]), cmap='gray')\n",
    "    fig.suptitle('Predicted: %d' %predicted_value)"
   ]
  },
  {
   "cell_type": "code",
   "execution_count": null,
   "metadata": {},
   "outputs": [],
   "source": []
  }
 ],
 "metadata": {
  "kernelspec": {
   "display_name": "Python 3",
   "language": "python",
   "name": "python3"
  },
  "language_info": {
   "codemirror_mode": {
    "name": "ipython",
    "version": 3
   },
   "file_extension": ".py",
   "mimetype": "text/x-python",
   "name": "python",
   "nbconvert_exporter": "python",
   "pygments_lexer": "ipython3",
   "version": "3.6.6"
  }
 },
 "nbformat": 4,
 "nbformat_minor": 2
}
