{
 "cells": [
  {
   "cell_type": "markdown",
   "metadata": {},
   "source": [
    "# Neural Networks"
   ]
  },
  {
   "cell_type": "code",
   "execution_count": 17,
   "metadata": {},
   "outputs": [],
   "source": [
    "import os\n",
    "import numpy as np\n",
    "import matplotlib.pyplot as plt\n",
    "from scipy import optimize as opt\n",
    "from scipy import io\n",
    "from scipy.special import expit\n",
    "%matplotlib inline"
   ]
  },
  {
   "cell_type": "markdown",
   "metadata": {},
   "source": [
    "### Feedforward"
   ]
  },
  {
   "cell_type": "markdown",
   "metadata": {},
   "source": [
    "This carries over from the last exercise. We will use a pretrained network here."
   ]
  },
  {
   "cell_type": "code",
   "execution_count": 5,
   "metadata": {},
   "outputs": [],
   "source": [
    "# Training data\n",
    "data = io.loadmat(os.path.join('data', 'ex4data1.mat'))\n",
    "X, y = data['X'], data['y'].flatten()\n",
    "y[y == 10] = 0 # from matlab indexing to python indexing\n",
    "m, n = X.shape"
   ]
  },
  {
   "cell_type": "code",
   "execution_count": 8,
   "metadata": {},
   "outputs": [
    {
     "data": {
      "image/png": "[encoded data removed]",
      "text/plain": [
       "<Figure size 1440x1440 with 25 Axes>"
      ]
     },
     "metadata": {
      "needs_background": "light"
     },
     "output_type": "display_data"
    }
   ],
   "source": [
    "# Visualize data\n",
    "nrows = 25\n",
    "\n",
    "def row_to_square(X_row):\n",
    "    return np.reshape(X_row, (20, 20)).T\n",
    "\n",
    "# Choose nrows random rows of X.\n",
    "indices = np.random.randint(m, size=nrows)\n",
    "X_sel = X[indices, :]\n",
    "\n",
    "fig, ax = plt.subplots(1, nrows, figsize=(20, 20))\n",
    "\n",
    "for i in range(nrows):\n",
    "    ax[i].imshow(row_to_square(X_sel[i, :]), cmap='gray')"
   ]
  },
  {
   "cell_type": "markdown",
   "metadata": {},
   "source": [
    "#### Network Model\n",
    "\n",
    "The images are of size $20 \\times 20$, so there are 400 (n) input layer units. The hidden layer has 25 units, and since there are 10 digits, therefore the output layer has 10 units. "
   ]
  },
  {
   "cell_type": "code",
   "execution_count": 33,
   "metadata": {},
   "outputs": [],
   "source": [
    "input_layer_size = n\n",
    "hidden_layer_size = 25\n",
    "num_labels = 10\n",
    "\n",
    "weights = io.loadmat(os.path.join('data', 'ex4weights.mat'))\n",
    "theta1, theta2 = weights['Theta1'], weights['Theta2']\n",
    "theta2 = np.roll(theta2, 1, axis=0) # Matlab legacy\n",
    "nn_params = np.concatenate([theta1.ravel(), theta2.ravel()])"
   ]
  },
  {
   "cell_type": "markdown",
   "metadata": {},
   "source": [
    "#### Cost function"
   ]
  },
  {
   "cell_type": "code",
   "execution_count": 155,
   "metadata": {},
   "outputs": [],
   "source": [
    "def feed_forward(thetas, x):\n",
    "    \"\"\"\n",
    "    Propagate a the input data through the network. \n",
    "    The thetas is a array of weights for each layer of the network. \n",
    "    \"\"\"\n",
    "    a = np.copy(x.T)\n",
    "    az_arr = []\n",
    "    for theta in thetas:\n",
    "        a = np.insert(a, 0, 1, axis=0)\n",
    "        z = np.einsum('ik,kj->ij', theta, a)\n",
    "        a = expit(z)\n",
    "        az_arr.append((z, a))\n",
    "    return az_arr\n",
    "        \n",
    "def map_y(y):\n",
    "    \"\"\"\n",
    "    To train the network we need to encode the labels as vectors containing\n",
    "    0s or 1s. i.e. each entry in the original y matrix will correspond to a \n",
    "    vector, containing 0s or 1s, of length num_labels.\n",
    "    For example, in this case if the i-th entry of y is 5, then the \n",
    "    corresponding vector will be the transpose of [0, 0, 0, 0, 1, 0, 0, 0, 0].\n",
    "    \"\"\"\n",
    "    m = y.size\n",
    "    mapped_y = np.zeros((num_labels, m))\n",
    "    for i in range(m):\n",
    "        mapped_y[y[i], i] = 1\n",
    "    return mapped_y\n",
    "\n",
    "def unroll_params(nn_params):\n",
    "    theta1 = np.reshape(nn_params[:hidden_layer_size * (input_layer_size + 1)], \n",
    "                        (hidden_layer_size, (input_layer_size + 1)))\n",
    "    theta2 = np.reshape(nn_params[(hidden_layer_size * (input_layer_size + 1)):],\n",
    "                       (num_labels, (hidden_layer_size + 1)))\n",
    "    return theta1, theta2\n",
    "    \n",
    "def cost_function(nn_params, x, y, regulator=0):\n",
    "    m, n = x.shape\n",
    "    thetas = np.array(unroll_params(nn_params))\n",
    "    mapped_y = map_y(y)\n",
    "    hypothesis = feed_forward(thetas, x)[1][1]\n",
    "    term1 = -np.einsum('ij,ij->', mapped_y, np.log(hypothesis))\n",
    "    term2 = np.einsum('ij,ij->', (1 - mapped_y), np.log(1 - hypothesis))\n",
    "    cost = (term1 - term2) / m\n",
    "    cost = np.sum(cost)\n",
    "    reg_arr = np.asarray([np.sum(theta * theta) for theta in thetas])\n",
    "    reg_term = (regulator / 2 / m) * np.sum(reg_arr)\n",
    "    return cost + reg_term"
   ]
  },
  {
   "cell_type": "code",
   "execution_count": 156,
   "metadata": {},
   "outputs": [
    {
     "data": {
      "text/plain": [
       "0.2876291651613189"
      ]
     },
     "execution_count": 156,
     "metadata": {},
     "output_type": "execute_result"
    }
   ],
   "source": [
    "cost_function(nn_params, X, y)"
   ]
  },
  {
   "cell_type": "code",
   "execution_count": 147,
   "metadata": {},
   "outputs": [
    {
     "data": {
      "text/plain": [
       "0.384487796242894"
      ]
     },
     "execution_count": 147,
     "metadata": {},
     "output_type": "execute_result"
    }
   ],
   "source": [
    "cost_function(nn_params, X, y, 1)"
   ]
  },
  {
   "cell_type": "markdown",
   "metadata": {},
   "source": [
    "### Back Propagation"
   ]
  },
  {
   "cell_type": "markdown",
   "metadata": {},
   "source": [
    "Here we will train the network using the back propagation algorithm."
   ]
  },
  {
   "cell_type": "code",
   "execution_count": 73,
   "metadata": {},
   "outputs": [],
   "source": [
    "def sigmoid_gradient(z):\n",
    "    return expit(z) * (1 - expit(z))"
   ]
  },
  {
   "cell_type": "code",
   "execution_count": 81,
   "metadata": {},
   "outputs": [
    {
     "data": {
      "text/plain": [
       "array([0.19661193, 0.23500371, 0.25      , 0.23500371, 0.19661193])"
      ]
     },
     "execution_count": 81,
     "metadata": {},
     "output_type": "execute_result"
    }
   ],
   "source": [
    "z = np.linspace(-1, 1, 5)\n",
    "sigmoid_gradient(z)"
   ]
  },
  {
   "cell_type": "code",
   "execution_count": 82,
   "metadata": {},
   "outputs": [],
   "source": [
    "def gen_random_weights(lin, lout):\n",
    "    eps = np.sqrt(6) / np.sqrt(lin + lout)\n",
    "    w = np.random.rand(lout, lin + 1) * 2 * eps - eps\n",
    "    return w"
   ]
  },
  {
   "cell_type": "code",
   "execution_count": 88,
   "metadata": {},
   "outputs": [],
   "source": [
    "initial_theta1 = gen_random_weights(input_layer_size, hidden_layer_size)\n",
    "initial_theta2 = gen_random_weights(hidden_layer_size, num_labels)\n",
    "initial_nn_params = np.concatenate([initial_theta1.ravel(), initial_theta2.ravel()], axis=0)"
   ]
  },
  {
   "cell_type": "code",
   "execution_count": 228,
   "metadata": {},
   "outputs": [],
   "source": [
    "def back_propagation(nn_params, x, y, regulator=0):\n",
    "    m, n = x.shape\n",
    "    \n",
    "    # Gradient arrays\n",
    "    theta1, theta2 = unroll_params(nn_params)\n",
    "    D1 = np.zeros_like(theta1)\n",
    "    D2 = np.zeros_like(theta2)\n",
    "    \n",
    "    # Feed forward\n",
    "    az_arr = feed_forward([theta1, theta2], x)\n",
    "    a3 = az_arr[1][1] # 10 x 5000\n",
    "    z3 = az_arr[1][0] # 10 x 5000\n",
    "    a2 = az_arr[0][1] # 25 x 5000\n",
    "    z2 = az_arr[0][0] # 25 x 5000\n",
    "    a1 = np.insert(x, 0, 1, axis=1) # 5000 x 401\n",
    "    \n",
    "    # Error at each node\n",
    "    mapped_y = map_y(y)\n",
    "    delta3 = a3 - mapped_y\n",
    "    delta2 = np.dot(theta2.T, delta3)[1:] * sigmoid_gradient(z2)\n",
    "    \n",
    "    # Unregularized gradient\n",
    "    D1 = (D1 + np.dot(delta2, a1)) / m # 25 x 401\n",
    "    D2[:, 1:] = (D2[:, 1:] + np.dot(delta3, a2.T)) / m # 10 x 25\n",
    "    \n",
    "    # Regularization\n",
    "    D1[:, 1:] = D1[:, 1:] + (regulator / m) * theta1[:, 1:]\n",
    "    D2[:, 1:] = D2[:, 1:] + (regulator / m) * theta2[:, 1:]\n",
    "    \n",
    "    return np.concatenate([D1.ravel(), D2.ravel()])"
   ]
  },
  {
   "cell_type": "code",
   "execution_count": 256,
   "metadata": {},
   "outputs": [],
   "source": [
    "# Training\n",
    "\n",
    "def train_network(initial_nn_params, x, y, regulator=0, iters=100):\n",
    "    result = opt.minimize(cost_function, initial_nn_params,\n",
    "                          args=(x, y, regulator),\n",
    "                          jac=back_propagation, method='TNC',\n",
    "                          options={'maxiter': iters})\n",
    "    return result.x"
   ]
  },
  {
   "cell_type": "code",
   "execution_count": 254,
   "metadata": {},
   "outputs": [
    {
     "data": {
      "text/plain": [
       "95.46"
      ]
     },
     "execution_count": 254,
     "metadata": {},
     "output_type": "execute_result"
    }
   ],
   "source": [
    "# Train and predict\n",
    "\n",
    "nn_params = train_network(initial_nn_params, X, y)\n",
    "theta1, theta2 = unroll_params(nn_params)\n",
    "prediction = np.argmax(feed_forward([theta1, theta2], X)[1][1], axis=0)\n",
    "np.mean(prediction == y) * 100"
   ]
  },
  {
   "cell_type": "markdown",
   "metadata": {},
   "source": [
    "This network predicts the training data with an average accuracy of 95.46%. This could possibly be overfitting. One way to go around this would be to have a nonzero regulator."
   ]
  },
  {
   "cell_type": "code",
   "execution_count": 257,
   "metadata": {},
   "outputs": [
    {
     "data": {
      "text/plain": [
       "93.97999999999999"
      ]
     },
     "execution_count": 257,
     "metadata": {},
     "output_type": "execute_result"
    }
   ],
   "source": [
    "nn_params = train_network(initial_nn_params, X, y, 1)\n",
    "theta1, theta2 = unroll_params(nn_params)\n",
    "prediction = np.argmax(feed_forward([theta1, theta2], X)[1][1], axis=0)\n",
    "np.mean(prediction == y) * 100"
   ]
  },
  {
   "cell_type": "code",
   "execution_count": 258,
   "metadata": {},
   "outputs": [
    {
     "data": {
      "text/plain": [
       "99.02"
      ]
     },
     "execution_count": 258,
     "metadata": {},
     "output_type": "execute_result"
    }
   ],
   "source": [
    "nn_params = train_network(initial_nn_params, X, y, 0.1, 150)\n",
    "theta1, theta2 = unroll_params(nn_params)\n",
    "prediction = np.argmax(feed_forward([theta1, theta2], X)[1][1], axis=0)\n",
    "np.mean(prediction == y) * 100"
   ]
  },
  {
   "cell_type": "code",
   "execution_count": 259,
   "metadata": {},
   "outputs": [
    {
     "data": {
      "text/plain": [
       "93.76"
      ]
     },
     "execution_count": 259,
     "metadata": {},
     "output_type": "execute_result"
    }
   ],
   "source": [
    "nn_params = train_network(initial_nn_params, X, y, 10, 150)\n",
    "theta1, theta2 = unroll_params(nn_params)\n",
    "prediction = np.argmax(feed_forward([theta1, theta2], X)[1][1], axis=0)\n",
    "np.mean(prediction == y) * 100"
   ]
  },
  {
   "cell_type": "code",
   "execution_count": null,
   "metadata": {},
   "outputs": [],
   "source": []
  }
 ],
 "metadata": {
  "kernelspec": {
   "display_name": "Python 3",
   "language": "python",
   "name": "python3"
  },
  "language_info": {
   "codemirror_mode": {
    "name": "ipython",
    "version": 3
   },
   "file_extension": ".py",
   "mimetype": "text/x-python",
   "name": "python",
   "nbconvert_exporter": "python",
   "pygments_lexer": "ipython3",
   "version": "3.6.6"
  }
 },
 "nbformat": 4,
 "nbformat_minor": 2
}
